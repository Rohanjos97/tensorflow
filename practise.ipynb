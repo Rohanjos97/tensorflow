{
 "cells": [
  {
   "cell_type": "code",
   "execution_count": 293,
   "id": "3b0b2ba0",
   "metadata": {},
   "outputs": [],
   "source": [
    "import tensorflow as tf\n",
    "import numpy as np\n",
    "import matplotlib.pyplot as plt\n",
    "from tensorflow.keras.losses import CategoricalCrossentropy"
   ]
  },
  {
   "cell_type": "code",
   "execution_count": 93,
   "id": "bb6f70c4",
   "metadata": {},
   "outputs": [],
   "source": [
    "# Training a sequential model for MNIST dataset\n",
    "def train_mnist() -> tf.keras.models.Model:\n",
    "    \"\"\"\n",
    "    Train an MNIST classifier.\n",
    "    \n",
    "    Returns:\n",
    "            Trained Keras model.\n",
    "    \"\"\"\n",
    "    (x_train, y_train), (x_test, y_test) = tf.keras.datasets.mnist.load_data()\n",
    "    x_train = x_train / 255.\n",
    "    x_test = x_test / 255.\n",
    "    \n",
    "    model = tf.keras.models.Sequential(\n",
    "        [\n",
    "            tf.keras.layers.Input(shape=(28, 28)),\n",
    "            tf.keras.layers.Reshape(target_shape=(28, 28, 1)),\n",
    "            tf.keras.layers.Conv2D(filters=64, kernel_size=(8, 8)),\n",
    "            tf.keras.layers.MaxPooling2D((4, 4)),\n",
    "            tf.keras.layers.Flatten(),\n",
    "            tf.keras.layers.Dense(10, activation='softmax'),\n",
    "        ]\n",
    "    )\n",
    "    \n",
    "    print(model.summary())\n",
    "    \n",
    "    callbacks = [\n",
    "        tf.keras.callbacks.EarlyStopping(monitor='val_loss', mode='min', patience=1, restore_best_weights=True)\n",
    "    ]\n",
    "    \n",
    "    model.compile(\n",
    "        optimizer=tf.keras.optimizers.Adam(),\n",
    "        loss='sparse_categorical_crossentropy',\n",
    "        metrics=['accuracy'],\n",
    "    )\n",
    "    \n",
    "    model.fit(x_train, y_train, epochs=10, validation_data=(x_test, y_test), callbacks=callbacks)\n",
    "    \n",
    "    return model"
   ]
  },
  {
   "cell_type": "code",
   "execution_count": 165,
   "id": "c63c0846",
   "metadata": {
    "scrolled": true
   },
   "outputs": [
    {
     "name": "stdout",
     "output_type": "stream",
     "text": [
      "Model: \"sequential_9\"\n",
      "_________________________________________________________________\n",
      " Layer (type)                Output Shape              Param #   \n",
      "=================================================================\n",
      " reshape_9 (Reshape)         (None, 28, 28, 1)         0         \n",
      "                                                                 \n",
      " conv2d_9 (Conv2D)           (None, 21, 21, 64)        4160      \n",
      "                                                                 \n",
      " max_pooling2d_9 (MaxPooling  (None, 5, 5, 64)         0         \n",
      " 2D)                                                             \n",
      "                                                                 \n",
      " flatten_9 (Flatten)         (None, 1600)              0         \n",
      "                                                                 \n",
      " dense_9 (Dense)             (None, 10)                16010     \n",
      "                                                                 \n",
      "=================================================================\n",
      "Total params: 20,170\n",
      "Trainable params: 20,170\n",
      "Non-trainable params: 0\n",
      "_________________________________________________________________\n",
      "None\n",
      "Epoch 1/10\n",
      "1875/1875 [==============================] - 20s 10ms/step - loss: 0.1689 - accuracy: 0.9520 - val_loss: 0.0682 - val_accuracy: 0.9781\n",
      "Epoch 2/10\n",
      "1875/1875 [==============================] - 19s 10ms/step - loss: 0.0593 - accuracy: 0.9823 - val_loss: 0.0441 - val_accuracy: 0.9851\n",
      "Epoch 3/10\n",
      "1875/1875 [==============================] - 18s 10ms/step - loss: 0.0468 - accuracy: 0.9855 - val_loss: 0.0439 - val_accuracy: 0.9851\n",
      "Epoch 4/10\n",
      "1875/1875 [==============================] - 18s 10ms/step - loss: 0.0392 - accuracy: 0.9879 - val_loss: 0.0446 - val_accuracy: 0.9857\n"
     ]
    }
   ],
   "source": [
    "model = train_mnist()"
   ]
  },
  {
   "cell_type": "code",
   "execution_count": 153,
   "id": "4d286d15",
   "metadata": {},
   "outputs": [],
   "source": [
    "# from ann_visualizer.visualize import ann_viz\n",
    "\n",
    "# # try removing faltten and rescaling to show the graph\n",
    "# ann_viz(model, view=True, filename='cconstruct_model', title='CNN — Model 1 — Simple Architecture')"
   ]
  },
  {
   "cell_type": "markdown",
   "id": "0f8b7421",
   "metadata": {},
   "source": [
    "## Targetted attacks"
   ]
  },
  {
   "cell_type": "markdown",
   "id": "d3e950b1",
   "metadata": {},
   "source": [
    "### Rather than maximizing loss indiscriminately, we’ll “target” some desired output class. For instance, if we want a four to be misclassified as a two, we’ll use target_class of two."
   ]
  },
  {
   "cell_type": "code",
   "execution_count": 371,
   "id": "ee56e712",
   "metadata": {},
   "outputs": [],
   "source": [
    "def calculate_gradient(input: np.ndarray, model: tf.keras.models.Model, target_class: int, output_class: int):\n",
    "    '''\n",
    "    Calculate the gradient values for output class predictions w.r.t. input pixels.\n",
    "    \n",
    "    Args:\n",
    "        input: Image data to predict.\n",
    "        model: Model being attacked.\n",
    "        target_class: Desired adversarial classification label.\n",
    "        \n",
    "    Return:\n",
    "        Jacobian slice for target_class, graadients of outputs for target_class w.r.t. input pixels.\n",
    "    '''\n",
    "    \n",
    "    assert input.shape[0] == 1, \"Expects singleton first dimension, i.e., one image\"\n",
    "    \n",
    "    input_tensor = tf.convert_to_tensor(input)\n",
    "    output_class = tf.one_hot(output_class, 10)\n",
    "    \n",
    "    # Calculate gradient of outputs with respect to pixel data\n",
    "    with tf.GradientTape() as g:\n",
    "        g.watch(input_tensor)\n",
    "        output = model(input_tensor)\n",
    "        loss = CategoricalCrossentropy(from_logits=True)(output_class, output[0])\n",
    "    \n",
    "    gradients = g.gradient(loss, input_tensor)\n",
    "    \n",
    "    return gradients\n",
    "#     return np.squeeze(gradients.numpy()[:, target_class, ...])"
   ]
  },
  {
   "cell_type": "markdown",
   "id": "da235211",
   "metadata": {},
   "source": [
    "### Next, we will want to update our image to increase the loss, increasing the model’s confidence(probability) in the target_class."
   ]
  },
  {
   "cell_type": "code",
   "execution_count": 374,
   "id": "e5f9691e",
   "metadata": {},
   "outputs": [],
   "source": [
    "def gradient_ascend(input: np.ndarray,\n",
    "                    model: tf.keras.models.Model,\n",
    "                    target_class: int,\n",
    "                    output_class: int,\n",
    "                    step_size: float = 1.e-1\n",
    "                   ) -> np.ndarray:\n",
    "    '''\n",
    "    Maximize the output probability for a given target_class.\n",
    "    \n",
    "    Args:\n",
    "        input: Image data.\n",
    "        model: Model being attacked\n",
    "        target_class: Target class prediction(i.e., new prediction class)\n",
    "        \n",
    "    Return:\n",
    "        updated image.\n",
    "    '''\n",
    "    fgsm = True\n",
    "    update_step = calculate_gradient(input, model, target_class, output_class)\n",
    "    \n",
    "    if fgsm == False:\n",
    "        # Rescale all values so that absolute magnitude of steps is similar\n",
    "        range_max = np.max(np.abs(update_step))\n",
    "\n",
    "        unclipped = input + (step_size * update_step / range_max)\n",
    "    else:\n",
    "        # update_step = calculate_gradient(input, model, target_class)\n",
    "        sign_grad = tf.sign(update_step)\n",
    "        # print(f'sign(grad): {sign_grad}')\n",
    "        \n",
    "        # unclipped = input + (step_size * update_step / range_max)\n",
    "        unclipped = input + (step_size * sign_grad)\n",
    "        \n",
    "    # Clip to avoid pixel values outside of the [0, 1] range.\n",
    "#     clipped = np.clip(unclipped, 0, 1)\n",
    "        \n",
    "    return unclipped"
   ]
  },
  {
   "cell_type": "markdown",
   "id": "56942174",
   "metadata": {},
   "source": [
    "### Visualized sample"
   ]
  },
  {
   "cell_type": "code",
   "execution_count": 363,
   "id": "d263c602",
   "metadata": {
    "scrolled": true
   },
   "outputs": [
    {
     "name": "stdout",
     "output_type": "stream",
     "text": [
      "1/1 [==============================] - 0s 29ms/step\n"
     ]
    },
    {
     "data": {
      "text/plain": [
       "Text(0.5, 1.0, 'Selected image\\n class: 1, prob: [[1.1527389e-06 9.9941623e-01 6.9574776e-06 2.2768450e-06 3.3870985e-04\\n  2.8608627e-06 4.0145201e-06 1.7991119e-04 4.4042532e-05 3.8375565e-06]]')"
      ]
     },
     "execution_count": 363,
     "metadata": {},
     "output_type": "execute_result"
    },
    {
     "data": {
      "image/png": "[encoded data removed]",
      "text/plain": [
       "<Figure size 200x200 with 1 Axes>"
      ]
     },
     "metadata": {},
     "output_type": "display_data"
    }
   ],
   "source": [
    "# Get a random test sample\n",
    "x_test_sample_ind = np.random.randint(0, x_test.shape[0])\n",
    "random_sample = x_test[x_test_sample_ind, ...].reshape(1, 28, 28)\n",
    "\n",
    "original_prediction = model.predict(random_sample)\n",
    "original_prediction_class = np.argmax(original_prediction)\n",
    "original_prediction_probability = np.max(original_prediction)\n",
    "\n",
    "plt.figure(figsize=(2, 2))\n",
    "plt.imshow(random_sample[0], cmap=plt.get_cmap('gray'))\n",
    "plt.title(f'Selected image\\n class: {original_prediction_class}, prob: {original_prediction}')"
   ]
  },
  {
   "cell_type": "markdown",
   "id": "372e963b",
   "metadata": {},
   "source": [
    "#### Now that we have an image sample, we can see how the image was originally classified by our model.\n",
    "\n",
    "#### As expected, our model correctly classifies the sample with very high confidence. Now, let’s generate an adversarial sample using this image as a starting point…"
   ]
  },
  {
   "cell_type": "markdown",
   "id": "df10101a",
   "metadata": {},
   "source": [
    "### Now, let’s generate an adversarial sample using this image as a starting point…"
   ]
  },
  {
   "cell_type": "code",
   "execution_count": 376,
   "id": "9f895043",
   "metadata": {
    "scrolled": false
   },
   "outputs": [
    {
     "name": "stdout",
     "output_type": "stream",
     "text": [
      "1/1 [==============================] - 0s 26ms/step\n",
      "Current prediction: 1; Prob: 0.87\n",
      "1/1 [==============================] - 0s 24ms/step\n",
      "1/1 [==============================] - 0s 24ms/step\n",
      "Current prediction: 4; Prob: 0.84\n",
      "1/1 [==============================] - 0s 25ms/step\n",
      "1/1 [==============================] - 0s 27ms/step\n",
      "Current prediction: 4; Prob: 1.00\n",
      "1/1 [==============================] - 0s 34ms/step\n",
      "1/1 [==============================] - 0s 28ms/step\n",
      "Current prediction: 4; Prob: 1.00\n",
      "1/1 [==============================] - 0s 30ms/step\n",
      "1/1 [==============================] - 0s 23ms/step\n",
      "Current prediction: 4; Prob: 1.00\n",
      "1/1 [==============================] - 0s 27ms/step\n",
      "1/1 [==============================] - 0s 27ms/step\n",
      "Current prediction: 4; Prob: 1.00\n",
      "1/1 [==============================] - 0s 27ms/step\n",
      "1/1 [==============================] - 0s 23ms/step\n",
      "Current prediction: 4; Prob: 1.00\n",
      "1/1 [==============================] - 0s 25ms/step\n",
      "1/1 [==============================] - 0s 28ms/step\n",
      "Current prediction: 4; Prob: 1.00\n",
      "1/1 [==============================] - 0s 25ms/step\n",
      "1/1 [==============================] - 0s 30ms/step\n",
      "Current prediction: 4; Prob: 1.00\n",
      "1/1 [==============================] - 0s 55ms/step\n",
      "1/1 [==============================] - 0s 25ms/step\n",
      "Current prediction: 4; Prob: 1.00\n",
      "1/1 [==============================] - 0s 24ms/step\n",
      "1/1 [==============================] - 0s 23ms/step\n",
      "Current prediction: 4; Prob: 1.00\n",
      "1/1 [==============================] - 0s 25ms/step\n",
      "1/1 [==============================] - 0s 24ms/step\n",
      "Current prediction: 4; Prob: 1.00\n",
      "1/1 [==============================] - 0s 24ms/step\n",
      "1/1 [==============================] - 0s 26ms/step\n",
      "Current prediction: 4; Prob: 1.00\n",
      "1/1 [==============================] - 0s 26ms/step\n",
      "1/1 [==============================] - 0s 25ms/step\n",
      "Current prediction: 4; Prob: 1.00\n",
      "1/1 [==============================] - 0s 24ms/step\n",
      "1/1 [==============================] - 0s 26ms/step\n",
      "Current prediction: 4; Prob: 1.00\n",
      "1/1 [==============================] - 0s 25ms/step\n",
      "1/1 [==============================] - 0s 24ms/step\n",
      "Current prediction: 4; Prob: 1.00\n",
      "1/1 [==============================] - 0s 23ms/step\n",
      "1/1 [==============================] - 0s 27ms/step\n",
      "Current prediction: 4; Prob: 1.00\n",
      "1/1 [==============================] - 0s 26ms/step\n",
      "1/1 [==============================] - 0s 23ms/step\n",
      "Current prediction: 4; Prob: 1.00\n",
      "1/1 [==============================] - 0s 25ms/step\n",
      "1/1 [==============================] - 0s 25ms/step\n",
      "Current prediction: 4; Prob: 1.00\n",
      "1/1 [==============================] - 0s 28ms/step\n",
      "1/1 [==============================] - 0s 24ms/step\n",
      "Current prediction: 4; Prob: 1.00\n",
      "1/1 [==============================] - 0s 25ms/step\n",
      "1/1 [==============================] - 0s 24ms/step\n",
      "Current prediction: 4; Prob: 1.00\n",
      "1/1 [==============================] - 0s 28ms/step\n",
      "1/1 [==============================] - 0s 24ms/step\n",
      "Current prediction: 4; Prob: 1.00\n",
      "1/1 [==============================] - 0s 25ms/step\n",
      "1/1 [==============================] - 0s 24ms/step\n",
      "Current prediction: 4; Prob: 1.00\n",
      "1/1 [==============================] - 0s 25ms/step\n",
      "1/1 [==============================] - 0s 22ms/step\n",
      "Current prediction: 4; Prob: 1.00\n",
      "1/1 [==============================] - 0s 23ms/step\n",
      "1/1 [==============================] - 0s 25ms/step\n",
      "Current prediction: 4; Prob: 1.00\n",
      "1/1 [==============================] - 0s 25ms/step\n",
      "1/1 [==============================] - 0s 27ms/step\n",
      "Current prediction: 4; Prob: 1.00\n",
      "1/1 [==============================] - 0s 26ms/step\n",
      "1/1 [==============================] - 0s 23ms/step\n",
      "Current prediction: 4; Prob: 1.00\n",
      "1/1 [==============================] - 0s 25ms/step\n",
      "1/1 [==============================] - 0s 22ms/step\n",
      "Current prediction: 4; Prob: 1.00\n",
      "1/1 [==============================] - 0s 27ms/step\n",
      "1/1 [==============================] - 0s 25ms/step\n",
      "Current prediction: 4; Prob: 1.00\n",
      "1/1 [==============================] - 0s 27ms/step\n",
      "1/1 [==============================] - 0s 26ms/step\n",
      "Current prediction: 4; Prob: 1.00\n",
      "1/1 [==============================] - 0s 27ms/step\n",
      "1/1 [==============================] - 0s 24ms/step\n",
      "Current prediction: 4; Prob: 1.00\n",
      "1/1 [==============================] - 0s 27ms/step\n",
      "1/1 [==============================] - 0s 25ms/step\n",
      "Current prediction: 4; Prob: 1.00\n",
      "1/1 [==============================] - 0s 26ms/step\n",
      "1/1 [==============================] - 0s 24ms/step\n",
      "Current prediction: 4; Prob: 1.00\n",
      "1/1 [==============================] - 0s 25ms/step\n",
      "1/1 [==============================] - 0s 25ms/step\n",
      "Current prediction: 4; Prob: 1.00\n",
      "1/1 [==============================] - 0s 28ms/step\n",
      "1/1 [==============================] - 0s 24ms/step\n",
      "Current prediction: 4; Prob: 1.00\n",
      "1/1 [==============================] - 0s 24ms/step\n",
      "1/1 [==============================] - 0s 23ms/step\n",
      "Current prediction: 4; Prob: 1.00\n",
      "1/1 [==============================] - 0s 26ms/step\n",
      "1/1 [==============================] - 0s 26ms/step\n",
      "Current prediction: 4; Prob: 1.00\n",
      "1/1 [==============================] - 0s 26ms/step\n",
      "1/1 [==============================] - 0s 22ms/step\n",
      "Current prediction: 4; Prob: 1.00\n",
      "1/1 [==============================] - 0s 23ms/step\n",
      "1/1 [==============================] - 0s 25ms/step\n",
      "Current prediction: 4; Prob: 1.00\n"
     ]
    },
    {
     "ename": "KeyboardInterrupt",
     "evalue": "",
     "output_type": "error",
     "traceback": [
      "\u001b[1;31m---------------------------------------------------------------------------\u001b[0m",
      "\u001b[1;31mKeyboardInterrupt\u001b[0m                         Traceback (most recent call last)",
      "Input \u001b[1;32mIn [376]\u001b[0m, in \u001b[0;36m<cell line: 4>\u001b[1;34m()\u001b[0m\n\u001b[0;32m     10\u001b[0m updated_prediction_probability \u001b[38;5;241m=\u001b[39m np\u001b[38;5;241m.\u001b[39mmax(updated_prediction)\n\u001b[0;32m     12\u001b[0m \u001b[38;5;28mprint\u001b[39m(\u001b[38;5;124mf\u001b[39m\u001b[38;5;124m\"\u001b[39m\u001b[38;5;124mCurrent prediction: \u001b[39m\u001b[38;5;132;01m{\u001b[39;00mupdated_prediction_class\u001b[38;5;132;01m}\u001b[39;00m\u001b[38;5;124m; Prob: \u001b[39m\u001b[38;5;132;01m{\u001b[39;00mupdated_prediction_probability\u001b[38;5;132;01m:\u001b[39;00m\u001b[38;5;124m.2f\u001b[39m\u001b[38;5;132;01m}\u001b[39;00m\u001b[38;5;124m\"\u001b[39m)\n\u001b[1;32m---> 14\u001b[0m \u001b[38;5;28;01mif\u001b[39;00m np\u001b[38;5;241m.\u001b[39margmax(\u001b[43mmodel\u001b[49m\u001b[38;5;241;43m.\u001b[39;49m\u001b[43mpredict\u001b[49m\u001b[43m(\u001b[49m\u001b[38;5;28;43minput\u001b[39;49m\u001b[43m)\u001b[49m) \u001b[38;5;241m==\u001b[39m target_class:\n\u001b[0;32m     15\u001b[0m     \u001b[38;5;28;01mbreak\u001b[39;00m\n",
      "File \u001b[1;32m~\\AppData\\Local\\Packages\\PythonSoftwareFoundation.Python.3.10_qbz5n2kfra8p0\\LocalCache\\local-packages\\Python310\\site-packages\\keras\\utils\\traceback_utils.py:65\u001b[0m, in \u001b[0;36mfilter_traceback.<locals>.error_handler\u001b[1;34m(*args, **kwargs)\u001b[0m\n\u001b[0;32m     63\u001b[0m filtered_tb \u001b[38;5;241m=\u001b[39m \u001b[38;5;28;01mNone\u001b[39;00m\n\u001b[0;32m     64\u001b[0m \u001b[38;5;28;01mtry\u001b[39;00m:\n\u001b[1;32m---> 65\u001b[0m     \u001b[38;5;28;01mreturn\u001b[39;00m fn(\u001b[38;5;241m*\u001b[39margs, \u001b[38;5;241m*\u001b[39m\u001b[38;5;241m*\u001b[39mkwargs)\n\u001b[0;32m     66\u001b[0m \u001b[38;5;28;01mexcept\u001b[39;00m \u001b[38;5;167;01mException\u001b[39;00m \u001b[38;5;28;01mas\u001b[39;00m e:\n\u001b[0;32m     67\u001b[0m     filtered_tb \u001b[38;5;241m=\u001b[39m _process_traceback_frames(e\u001b[38;5;241m.\u001b[39m__traceback__)\n",
      "File \u001b[1;32m~\\AppData\\Local\\Packages\\PythonSoftwareFoundation.Python.3.10_qbz5n2kfra8p0\\LocalCache\\local-packages\\Python310\\site-packages\\keras\\engine\\training.py:2346\u001b[0m, in \u001b[0;36mModel.predict\u001b[1;34m(self, x, batch_size, verbose, steps, callbacks, max_queue_size, workers, use_multiprocessing)\u001b[0m\n\u001b[0;32m   2344\u001b[0m callbacks\u001b[38;5;241m.\u001b[39mon_predict_begin()\n\u001b[0;32m   2345\u001b[0m batch_outputs \u001b[38;5;241m=\u001b[39m \u001b[38;5;28;01mNone\u001b[39;00m\n\u001b[1;32m-> 2346\u001b[0m \u001b[38;5;28;01mfor\u001b[39;00m _, iterator \u001b[38;5;129;01min\u001b[39;00m data_handler\u001b[38;5;241m.\u001b[39menumerate_epochs():  \u001b[38;5;66;03m# Single epoch.\u001b[39;00m\n\u001b[0;32m   2347\u001b[0m     \u001b[38;5;28;01mwith\u001b[39;00m data_handler\u001b[38;5;241m.\u001b[39mcatch_stop_iteration():\n\u001b[0;32m   2348\u001b[0m         \u001b[38;5;28;01mfor\u001b[39;00m step \u001b[38;5;129;01min\u001b[39;00m data_handler\u001b[38;5;241m.\u001b[39msteps():\n",
      "File \u001b[1;32m~\\AppData\\Local\\Packages\\PythonSoftwareFoundation.Python.3.10_qbz5n2kfra8p0\\LocalCache\\local-packages\\Python310\\site-packages\\keras\\engine\\data_adapter.py:1304\u001b[0m, in \u001b[0;36menumerate_epochs\u001b[1;34m(self)\u001b[0m\n\u001b[0;32m   1301\u001b[0m     \u001b[38;5;28mself\u001b[39m\u001b[38;5;241m.\u001b[39m_dataset \u001b[38;5;241m=\u001b[39m dataset\n\u001b[0;32m   1302\u001b[0m     \u001b[38;5;28mself\u001b[39m\u001b[38;5;241m.\u001b[39m_validate_data_handler()\n\u001b[1;32m-> 1304\u001b[0m \u001b[38;5;28;01mdef\u001b[39;00m \u001b[38;5;21menumerate_epochs\u001b[39m(\u001b[38;5;28mself\u001b[39m):\n\u001b[0;32m   1305\u001b[0m     \u001b[38;5;124;03m\"\"\"Yields `(epoch, tf.data.Iterator)`.\"\"\"\u001b[39;00m\n\u001b[0;32m   1306\u001b[0m     \u001b[38;5;28;01mwith\u001b[39;00m \u001b[38;5;28mself\u001b[39m\u001b[38;5;241m.\u001b[39m_truncate_execution_to_epoch():\n",
      "File \u001b[1;32m~\\AppData\\Local\\Packages\\PythonSoftwareFoundation.Python.3.10_qbz5n2kfra8p0\\LocalCache\\local-packages\\Python310\\site-packages\\tensorflow\\python\\data\\ops\\dataset_ops.py:499\u001b[0m, in \u001b[0;36mDatasetV2.__iter__\u001b[1;34m(self)\u001b[0m\n\u001b[0;32m    497\u001b[0m \u001b[38;5;28;01mif\u001b[39;00m context\u001b[38;5;241m.\u001b[39mexecuting_eagerly() \u001b[38;5;129;01mor\u001b[39;00m ops\u001b[38;5;241m.\u001b[39minside_function():\n\u001b[0;32m    498\u001b[0m   \u001b[38;5;28;01mwith\u001b[39;00m ops\u001b[38;5;241m.\u001b[39mcolocate_with(\u001b[38;5;28mself\u001b[39m\u001b[38;5;241m.\u001b[39m_variant_tensor):\n\u001b[1;32m--> 499\u001b[0m     \u001b[38;5;28;01mreturn\u001b[39;00m \u001b[43miterator_ops\u001b[49m\u001b[38;5;241;43m.\u001b[39;49m\u001b[43mOwnedIterator\u001b[49m\u001b[43m(\u001b[49m\u001b[38;5;28;43mself\u001b[39;49m\u001b[43m)\u001b[49m\n\u001b[0;32m    500\u001b[0m \u001b[38;5;28;01melse\u001b[39;00m:\n\u001b[0;32m    501\u001b[0m   \u001b[38;5;28;01mraise\u001b[39;00m \u001b[38;5;167;01mRuntimeError\u001b[39;00m(\u001b[38;5;124m\"\u001b[39m\u001b[38;5;124m`tf.data.Dataset` only supports Python-style \u001b[39m\u001b[38;5;124m\"\u001b[39m\n\u001b[0;32m    502\u001b[0m                      \u001b[38;5;124m\"\u001b[39m\u001b[38;5;124miteration in eager mode or within tf.function.\u001b[39m\u001b[38;5;124m\"\u001b[39m)\n",
      "File \u001b[1;32m~\\AppData\\Local\\Packages\\PythonSoftwareFoundation.Python.3.10_qbz5n2kfra8p0\\LocalCache\\local-packages\\Python310\\site-packages\\tensorflow\\python\\data\\ops\\iterator_ops.py:703\u001b[0m, in \u001b[0;36mOwnedIterator.__init__\u001b[1;34m(self, dataset, components, element_spec)\u001b[0m\n\u001b[0;32m    699\u001b[0m   \u001b[38;5;28;01mif\u001b[39;00m (components \u001b[38;5;129;01mis\u001b[39;00m \u001b[38;5;129;01mnot\u001b[39;00m \u001b[38;5;28;01mNone\u001b[39;00m \u001b[38;5;129;01mor\u001b[39;00m element_spec \u001b[38;5;129;01mis\u001b[39;00m \u001b[38;5;129;01mnot\u001b[39;00m \u001b[38;5;28;01mNone\u001b[39;00m):\n\u001b[0;32m    700\u001b[0m     \u001b[38;5;28;01mraise\u001b[39;00m \u001b[38;5;167;01mValueError\u001b[39;00m(\n\u001b[0;32m    701\u001b[0m         \u001b[38;5;124m\"\u001b[39m\u001b[38;5;124mWhen `dataset` is provided, `element_spec` and `components` must \u001b[39m\u001b[38;5;124m\"\u001b[39m\n\u001b[0;32m    702\u001b[0m         \u001b[38;5;124m\"\u001b[39m\u001b[38;5;124mnot be specified.\u001b[39m\u001b[38;5;124m\"\u001b[39m)\n\u001b[1;32m--> 703\u001b[0m   \u001b[38;5;28;43mself\u001b[39;49m\u001b[38;5;241;43m.\u001b[39;49m\u001b[43m_create_iterator\u001b[49m\u001b[43m(\u001b[49m\u001b[43mdataset\u001b[49m\u001b[43m)\u001b[49m\n\u001b[0;32m    705\u001b[0m \u001b[38;5;28mself\u001b[39m\u001b[38;5;241m.\u001b[39m_get_next_call_count \u001b[38;5;241m=\u001b[39m \u001b[38;5;241m0\u001b[39m\n",
      "File \u001b[1;32m~\\AppData\\Local\\Packages\\PythonSoftwareFoundation.Python.3.10_qbz5n2kfra8p0\\LocalCache\\local-packages\\Python310\\site-packages\\tensorflow\\python\\data\\ops\\iterator_ops.py:742\u001b[0m, in \u001b[0;36mOwnedIterator._create_iterator\u001b[1;34m(self, dataset)\u001b[0m\n\u001b[0;32m    739\u001b[0m   \u001b[38;5;28;01massert\u001b[39;00m \u001b[38;5;28mlen\u001b[39m(fulltype\u001b[38;5;241m.\u001b[39margs[\u001b[38;5;241m0\u001b[39m]\u001b[38;5;241m.\u001b[39margs[\u001b[38;5;241m0\u001b[39m]\u001b[38;5;241m.\u001b[39margs) \u001b[38;5;241m==\u001b[39m \u001b[38;5;28mlen\u001b[39m(\n\u001b[0;32m    740\u001b[0m       \u001b[38;5;28mself\u001b[39m\u001b[38;5;241m.\u001b[39m_flat_output_types)\n\u001b[0;32m    741\u001b[0m   \u001b[38;5;28mself\u001b[39m\u001b[38;5;241m.\u001b[39m_iterator_resource\u001b[38;5;241m.\u001b[39mop\u001b[38;5;241m.\u001b[39mexperimental_set_type(fulltype)\n\u001b[1;32m--> 742\u001b[0m \u001b[43mgen_dataset_ops\u001b[49m\u001b[38;5;241;43m.\u001b[39;49m\u001b[43mmake_iterator\u001b[49m\u001b[43m(\u001b[49m\u001b[43mds_variant\u001b[49m\u001b[43m,\u001b[49m\u001b[43m \u001b[49m\u001b[38;5;28;43mself\u001b[39;49m\u001b[38;5;241;43m.\u001b[39;49m\u001b[43m_iterator_resource\u001b[49m\u001b[43m)\u001b[49m\n",
      "File \u001b[1;32m~\\AppData\\Local\\Packages\\PythonSoftwareFoundation.Python.3.10_qbz5n2kfra8p0\\LocalCache\\local-packages\\Python310\\site-packages\\tensorflow\\python\\ops\\gen_dataset_ops.py:3439\u001b[0m, in \u001b[0;36mmake_iterator\u001b[1;34m(dataset, iterator, name)\u001b[0m\n\u001b[0;32m   3437\u001b[0m \u001b[38;5;28;01mif\u001b[39;00m tld\u001b[38;5;241m.\u001b[39mis_eager:\n\u001b[0;32m   3438\u001b[0m   \u001b[38;5;28;01mtry\u001b[39;00m:\n\u001b[1;32m-> 3439\u001b[0m     _result \u001b[38;5;241m=\u001b[39m \u001b[43mpywrap_tfe\u001b[49m\u001b[38;5;241;43m.\u001b[39;49m\u001b[43mTFE_Py_FastPathExecute\u001b[49m\u001b[43m(\u001b[49m\n\u001b[0;32m   3440\u001b[0m \u001b[43m      \u001b[49m\u001b[43m_ctx\u001b[49m\u001b[43m,\u001b[49m\u001b[43m \u001b[49m\u001b[38;5;124;43m\"\u001b[39;49m\u001b[38;5;124;43mMakeIterator\u001b[39;49m\u001b[38;5;124;43m\"\u001b[39;49m\u001b[43m,\u001b[49m\u001b[43m \u001b[49m\u001b[43mname\u001b[49m\u001b[43m,\u001b[49m\u001b[43m \u001b[49m\u001b[43mdataset\u001b[49m\u001b[43m,\u001b[49m\u001b[43m \u001b[49m\u001b[43miterator\u001b[49m\u001b[43m)\u001b[49m\n\u001b[0;32m   3441\u001b[0m     \u001b[38;5;28;01mreturn\u001b[39;00m _result\n\u001b[0;32m   3442\u001b[0m   \u001b[38;5;28;01mexcept\u001b[39;00m _core\u001b[38;5;241m.\u001b[39m_NotOkStatusException \u001b[38;5;28;01mas\u001b[39;00m e:\n",
      "\u001b[1;31mKeyboardInterrupt\u001b[0m: "
     ]
    }
   ],
   "source": [
    "input = random_sample\n",
    "target_class = 0\n",
    "\n",
    "while True:\n",
    "\n",
    "    input = gradient_ascend(input=input, model=model, target_class=target_class, output_class=original_prediction_class)\n",
    "\n",
    "    updated_prediction = model.predict(input)\n",
    "    updated_prediction_class = np.argmax(updated_prediction)\n",
    "    updated_prediction_probability = np.max(updated_prediction)\n",
    "\n",
    "    print(f\"Current prediction: {updated_prediction_class}; Prob: {updated_prediction_probability:.2f}\")\n",
    "\n",
    "    if np.argmax(model.predict(input)) == target_class:\n",
    "        break\n",
    "# updated_prediction"
   ]
  },
  {
   "cell_type": "code",
   "execution_count": null,
   "id": "70ba4712",
   "metadata": {},
   "outputs": [],
   "source": [
    "plt.figure(figsize=(2, 2))\n",
    "plt.imshow(input[0], cmap=plt.get_cmap('gray'))\n",
    "plt.title(f'Selected image, class: {updated_prediction_class}, prob: {updated_prediction_probability}')"
   ]
  },
  {
   "cell_type": "code",
   "execution_count": null,
   "id": "1c6f905e",
   "metadata": {},
   "outputs": [],
   "source": [
    "diff = abs(random_sample[0] - input[0])\n",
    "# diff.shape\n",
    "\n",
    "fig, axes = plt.subplots(1, 3, figsize=(12, 3))\n",
    "axes[0].imshow(random_sample[0], cmap=plt.get_cmap('gray'))\n",
    "axes[0].set_title(f'Original Image \\n class: {original_prediction_class}, prob: {original_prediction_probability}')\n",
    "\n",
    "axes[1].imshow(input[0], cmap=plt.get_cmap('gray'))\n",
    "axes[1].set_title(f'Adversarial Image \\n orig_class: {original_prediction_class}, prob: {updated_prediction[0][original_prediction_class]}\\n class: {updated_prediction_class}, prob: {updated_prediction_probability}')\n",
    "\n",
    "axes[2].imshow(diff, cmap=plt.get_cmap('gray'))\n",
    "axes[2].set_title(f'Perturbations')"
   ]
  },
  {
   "cell_type": "code",
   "execution_count": null,
   "id": "8f9cb7e3",
   "metadata": {},
   "outputs": [],
   "source": []
  }
 ],
 "metadata": {
  "kernelspec": {
   "display_name": "Python 3 (ipykernel)",
   "language": "python",
   "name": "python3"
  },
  "language_info": {
   "codemirror_mode": {
    "name": "ipython",
    "version": 3
   },
   "file_extension": ".py",
   "mimetype": "text/x-python",
   "name": "python",
   "nbconvert_exporter": "python",
   "pygments_lexer": "ipython3",
   "version": "3.10.9"
  }
 },
 "nbformat": 4,
 "nbformat_minor": 5
}
