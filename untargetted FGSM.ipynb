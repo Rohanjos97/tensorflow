{
 "cells": [
  {
   "cell_type": "code",
   "execution_count": 10,
   "id": "1a65caa6",
   "metadata": {},
   "outputs": [],
   "source": [
    "import tensorflow as tf\n",
    "import numpy as np\n",
    "import matplotlib.pyplot as plt\n",
    "from tensorflow.keras.losses import MSE"
   ]
  },
  {
   "cell_type": "markdown",
   "id": "62f7f20e",
   "metadata": {},
   "source": [
    "### Training a sequential model for MNIST dataset"
   ]
  },
  {
   "cell_type": "code",
   "execution_count": 2,
   "id": "8998a35c",
   "metadata": {},
   "outputs": [],
   "source": [
    "def train_mnist() -> tf.keras.models.Model:\n",
    "    \"\"\"\n",
    "    Train an MNIST classifier.\n",
    "    \n",
    "    Returns:\n",
    "            Trained Keras model.\n",
    "    \"\"\"\n",
    "    (x_train, y_train), (x_test, y_test) = tf.keras.datasets.mnist.load_data()\n",
    "    x_train = x_train / 255.\n",
    "    x_test = x_test / 255.\n",
    "    \n",
    "    model = tf.keras.models.Sequential(\n",
    "        [\n",
    "            tf.keras.layers.Input(shape=(28, 28)),\n",
    "            tf.keras.layers.Reshape(target_shape=(28, 28, 1)),\n",
    "            tf.keras.layers.Conv2D(filters=64, kernel_size=(8, 8)),\n",
    "            tf.keras.layers.MaxPooling2D((4, 4)),\n",
    "            tf.keras.layers.Flatten(),\n",
    "            tf.keras.layers.Dense(10, activation='softmax'),\n",
    "        ]\n",
    "    )\n",
    "    \n",
    "    print(model.summary())\n",
    "    \n",
    "    callbacks = [\n",
    "        tf.keras.callbacks.EarlyStopping(monitor='val_loss', mode='min', patience=1, restore_best_weights=True)\n",
    "    ]\n",
    "    \n",
    "    model.compile(\n",
    "        optimizer=tf.keras.optimizers.Adam(),\n",
    "        loss='sparse_categorical_crossentropy',\n",
    "        metrics=['accuracy'],\n",
    "    )\n",
    "    \n",
    "    model.fit(x_train, y_train, epochs=10, validation_data=(x_test, y_test), callbacks=callbacks)\n",
    "    \n",
    "    return model"
   ]
  },
  {
   "cell_type": "code",
   "execution_count": 3,
   "id": "df718538",
   "metadata": {},
   "outputs": [
    {
     "name": "stdout",
     "output_type": "stream",
     "text": [
      "Model: \"sequential\"\n",
      "_________________________________________________________________\n",
      " Layer (type)                Output Shape              Param #   \n",
      "=================================================================\n",
      " reshape (Reshape)           (None, 28, 28, 1)         0         \n",
      "                                                                 \n",
      " conv2d (Conv2D)             (None, 21, 21, 64)        4160      \n",
      "                                                                 \n",
      " max_pooling2d (MaxPooling2D  (None, 5, 5, 64)         0         \n",
      " )                                                               \n",
      "                                                                 \n",
      " flatten (Flatten)           (None, 1600)              0         \n",
      "                                                                 \n",
      " dense (Dense)               (None, 10)                16010     \n",
      "                                                                 \n",
      "=================================================================\n",
      "Total params: 20,170\n",
      "Trainable params: 20,170\n",
      "Non-trainable params: 0\n",
      "_________________________________________________________________\n",
      "None\n",
      "Epoch 1/10\n",
      "1875/1875 [==============================] - 24s 12ms/step - loss: 0.1650 - accuracy: 0.9531 - val_loss: 0.0600 - val_accuracy: 0.9808\n",
      "Epoch 2/10\n",
      "1875/1875 [==============================] - 21s 11ms/step - loss: 0.0604 - accuracy: 0.9811 - val_loss: 0.0500 - val_accuracy: 0.9833\n",
      "Epoch 3/10\n",
      "1875/1875 [==============================] - 22s 12ms/step - loss: 0.0470 - accuracy: 0.9856 - val_loss: 0.0435 - val_accuracy: 0.9859\n",
      "Epoch 4/10\n",
      "1875/1875 [==============================] - 22s 12ms/step - loss: 0.0392 - accuracy: 0.9881 - val_loss: 0.0422 - val_accuracy: 0.9861\n",
      "Epoch 5/10\n",
      "1875/1875 [==============================] - 21s 11ms/step - loss: 0.0340 - accuracy: 0.9890 - val_loss: 0.0405 - val_accuracy: 0.9870\n",
      "Epoch 6/10\n",
      "1875/1875 [==============================] - 15s 8ms/step - loss: 0.0275 - accuracy: 0.9916 - val_loss: 0.0399 - val_accuracy: 0.9880\n",
      "Epoch 7/10\n",
      "1875/1875 [==============================] - 13s 7ms/step - loss: 0.0249 - accuracy: 0.9920 - val_loss: 0.0402 - val_accuracy: 0.9869\n"
     ]
    }
   ],
   "source": [
    "model = train_mnist()"
   ]
  },
  {
   "cell_type": "markdown",
   "id": "6bb959f5",
   "metadata": {},
   "source": [
    "### Adversarial Attack"
   ]
  },
  {
   "cell_type": "code",
   "execution_count": 4,
   "id": "a102e769",
   "metadata": {},
   "outputs": [],
   "source": [
    "def generate_image_adversary(model, image, label, eps=2 / 255.0):\n",
    "\n",
    "    # cast the image\n",
    "    image = tf.cast(image, tf.float32)\n",
    "\n",
    "    # record our gradients\n",
    "    with tf.GradientTape() as tape:\n",
    "        # explicitly indicate that our image should be tacked for gradient updates\n",
    "        tape.watch(image)\n",
    "\n",
    "        # use our model to make predictions on the input image and then compute the loss\n",
    "        pred = model(image)\n",
    "        loss = MSE(label, pred)\n",
    "\n",
    "        # calculate the gradients of loss with respect to the image, then compute the sign of the gradient\n",
    "\n",
    "    gradient = tape.gradient(loss, image)\n",
    "    signedGrad = tf.sign(gradient)\n",
    "\n",
    "    # construct the image adversary\n",
    "    adversary = (image + (signedGrad * eps)).numpy()\n",
    "\n",
    "    # return the image adversary to the calling function\n",
    "    return adversary"
   ]
  },
  {
   "cell_type": "code",
   "execution_count": 81,
   "id": "4e792ddf",
   "metadata": {},
   "outputs": [
    {
     "name": "stdout",
     "output_type": "stream",
     "text": [
      "1/1 [==============================] - 0s 22ms/step\n"
     ]
    },
    {
     "data": {
      "text/plain": [
       "Text(0.5, 1.0, 'Selected image\\n class: 4, prob: 1.0')"
      ]
     },
     "execution_count": 81,
     "metadata": {},
     "output_type": "execute_result"
    },
    {
     "data": {
      "image/png": "[encoded data removed]",
      "text/plain": [
       "<Figure size 200x200 with 1 Axes>"
      ]
     },
     "metadata": {},
     "output_type": "display_data"
    }
   ],
   "source": [
    "(x_train, y_train), (x_test, y_test) = tf.keras.datasets.mnist.load_data()\n",
    "x_train = x_train / 255.0\n",
    "x_test = x_test / 255.0\n",
    "\n",
    "# Get a random test sample\n",
    "x_test_sample_ind = np.random.randint(0, x_test.shape[0])\n",
    "random_sample = x_test[x_test_sample_ind, ...].reshape(1, 28, 28)\n",
    "\n",
    "original_prediction = model.predict(random_sample)\n",
    "original_prediction_class = np.argmax(original_prediction)\n",
    "original_prediction_probability = np.max(original_prediction)\n",
    "\n",
    "plt.figure(figsize=(2, 2))\n",
    "plt.imshow(random_sample[0], cmap=plt.get_cmap('gray'))\n",
    "plt.title(f'Selected image\\n class: {original_prediction_class}, prob: {original_prediction_probability}')"
   ]
  },
  {
   "cell_type": "code",
   "execution_count": 82,
   "id": "6e0c650f",
   "metadata": {},
   "outputs": [
    {
     "name": "stdout",
     "output_type": "stream",
     "text": [
      "1/1 [==============================] - 0s 22ms/step\n"
     ]
    }
   ],
   "source": [
    "# grab the current image and label\n",
    "image = random_sample\n",
    "label = original_prediction_probability\n",
    "# image.shape\n",
    "\n",
    "# generate an image adversary for the current image and make a prediction on the adversary\n",
    "adversary = generate_image_adversary(model, image.reshape(1, 28, 28, 1), label, eps=0.1)\n",
    "pred = model.predict(adversary)"
   ]
  },
  {
   "cell_type": "code",
   "execution_count": 83,
   "id": "cbf6089d",
   "metadata": {},
   "outputs": [
    {
     "data": {
      "text/plain": [
       "<matplotlib.image.AxesImage at 0x17be4197310>"
      ]
     },
     "execution_count": 83,
     "metadata": {},
     "output_type": "execute_result"
    },
    {
     "data": {
      "image/png": "[encoded data removed]",
      "text/plain": [
       "<Figure size 200x200 with 1 Axes>"
      ]
     },
     "metadata": {},
     "output_type": "display_data"
    }
   ],
   "source": [
    "plt.figure(figsize=(2, 2))\n",
    "plt.imshow(adversary[0], cmap=plt.get_cmap('gray'))\n",
    "# plt.title(f'Selected image, class: {updated_prediction_class}, prob: {updated_prediction_probability}')"
   ]
  },
  {
   "cell_type": "code",
   "execution_count": 90,
   "id": "6f0c7293",
   "metadata": {},
   "outputs": [
    {
     "data": {
      "text/plain": [
       "Text(0.5, 1.0, 'Perturbations')"
      ]
     },
     "execution_count": 90,
     "metadata": {},
     "output_type": "execute_result"
    },
    {
     "data": {
      "image/png": "[encoded data removed]",
      "text/plain": [
       "<Figure size 1200x400 with 6 Axes>"
      ]
     },
     "metadata": {},
     "output_type": "display_data"
    }
   ],
   "source": [
    "diff = abs(random_sample[0] - adversary[0])\n",
    "diff.shape\n",
    "\n",
    "fig, axes = plt.subplots(2, 3, figsize=(12, 4))\n",
    "axes[0][0].imshow(random_sample[0])\n",
    "axes[0][0].set_title(f'Original Image \\n class: {original_prediction_class}')\n",
    "\n",
    "axes[0][1].imshow(adversary[0])\n",
    "axes[0][1].set_title(f'Adversarial Image \\n class: {updated_prediction_class}')\n",
    "\n",
    "axes[0][2].imshow(diff[0])\n",
    "axes[0][2].set_title(f'Perturbations')\n",
    "\n",
    "axes[1][0].imshow(random_sample[0], cmap=plt.get_cmap('gray'))\n",
    "axes[0][0].set_title(f'Original Image \\n class: {original_prediction_class}')\n",
    "\n",
    "axes[1][1].imshow(adversary[0], cmap=plt.get_cmap('gray'))\n",
    "axes[0][1].set_title(f'Adversarial Image \\n class: {updated_prediction_class}')\n",
    "\n",
    "axes[1][2].imshow(diff[0], cmap=plt.get_cmap('gray'))\n",
    "axes[0][2].set_title(f'Perturbations')"
   ]
  },
  {
   "cell_type": "code",
   "execution_count": null,
   "id": "eead0c9b",
   "metadata": {},
   "outputs": [],
   "source": []
  }
 ],
 "metadata": {
  "kernelspec": {
   "display_name": "Python [conda env:tensorflow_env]",
   "language": "python",
   "name": "conda-env-tensorflow_env-py"
  },
  "language_info": {
   "codemirror_mode": {
    "name": "ipython",
    "version": 3
   },
   "file_extension": ".py",
   "mimetype": "text/x-python",
   "name": "python",
   "nbconvert_exporter": "python",
   "pygments_lexer": "ipython3",
   "version": "3.10.8"
  }
 },
 "nbformat": 4,
 "nbformat_minor": 5
}
